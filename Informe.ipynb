{
 "cells": [
  {
   "cell_type": "markdown",
   "metadata": {},
   "source": [
    "## Proyecto de Visualización de Datos"
   ]
  },
  {
   "cell_type": "markdown",
   "metadata": {},
   "source": [
    "### Set de Datos"
   ]
  },
  {
   "cell_type": "markdown",
   "metadata": {},
   "source": [
    "\n",
    "- Los datos que trabajaremos son del sitio web Ecuador en cifras, sobre los centros de salud a nivel nacional en al año 2012.\n",
    "\n",
    "\n",
    "1) OBJETIVOS:\n",
    "\n",
    "   **Objetivo General**: Aprender sobre el lenguaje de programación python en el uso de archivos y gráficas con librerías como jupyter, pandas y bokeh.\n",
    "   **Objetivos Específicos**: Mediante la información de en un archivo(csv, xlsx o pdf) generar una base de datos con esa información y crear diferentes gráficas que muestren la información contenida en los archivos.\n",
    "\n",
    "\n"
   ]
  },
  {
   "cell_type": "markdown",
   "metadata": {},
   "source": [
    "### Marco Teórico\n",
    "\n",
    "#### Python\n",
    "\n",
    "* Es un lenguaje de programación interpretado cuya filosofía hace hincapié en una sintaxis que favorezca un código legible. Se trata de un lenguaje de programación multiparadigma, ya que soporta orientación a objetos, programación imperativa y programación funcional.\n",
    "* Es administrado por la Python Software Foundation posee una licencia de código abierto, denominada Python Software Foundation License, que es compatible con la Licencia pública general de GNU a partir de la versión 2.1.1, e incompatible en ciertas versiones anteriores.\n",
    "\n",
    "#### Pandas\n",
    "\n",
    "* Es una biblioteca de código abierto con licencia de BSD que proporciona estructuras de datos y herramientas de análisis de datos de alto rendimiento y fácil de usar para el lenguaje de programación Python.\n",
    "* Pandas es un proyecto patrocinado por NUMFocus. Esto ayudará a garantizar el éxito del desarrollo de los pandas como un proyecto de código abierto de clase mundial, y hace posible donar para el proyecto.\n",
    "\n",
    "#### Bokeh\n",
    "\n",
    "* Es una biblioteca de visualización interactiva de Python que se dirige a navegadores web modernos para su presentación.\n",
    "* Su objetivo es proporcionar una construcción elegante y concisa de gráficos novedosos al estilo de D3.js y ampliar esta capacidad con interactividad de alto rendimiento en conjuntos de datos de gran tamaño o de transmisión.\n",
    "* Bokeh puede ayudar a cualquiera que desee crear trazados interactivos, cuadros de mando y aplicaciones de datos de manera rápida y fácil.\n",
    "\n",
    "#### Jupiter\n",
    "\n",
    "* Es un proyecto de código abierto sin fines de lucro, surgido del Proyecto IPython en 2014, ya que evolucionó para admitir la ciencia de datos interactiva y la informática científica en todos los lenguajes de programación.\n",
    "* Jupyter siempre será gratuito para que todos lo utilicen y lo liberen bajo los términos liberales de la licencia BSD modificada.\n",
    "* Jupyter se desarroll en GitHub, a través del consenso de la comunidad Jupyter.\n",
    "* Todas las interacciones y comunicaciones en línea y en persona directamente relacionadas con el proyecto están cubiertas por el Código de Conducta de Jupyter; Este Código de Conducta establece expectativas para permitir que una comunidad diversa de usuarios y contribuyentes participen en el proyecto con respeto y seguridad."
   ]
  },
  {
   "cell_type": "markdown",
   "metadata": {},
   "source": [
    "### Propuesta de Visualización\n",
    "\n",
    "**Describir la propuesta**\n",
    "\n",
    "Lo primero que realizamos en nuestro trabajo fue la instalación de las librerías jupyter, pandas y bokeh para poder realizar el control de los datos de archivos(pandas); sin él no podría el programa recibir la base de datos requerida para la graficación. Luego se procede a la lectura del archivo guardado en la máquina usando unos códigos vistos en un vídeo, nos permite leer los caracteres del idioma latino sin que salga con algunas alteraciones.\n",
    "A continuación el programa extrae de la data solo la información de la columna “Tipo de centro de salud”; ahora usando una lista obtenemos la información de la columna antes mencionada para solo obtener la información ya filtrada de la lista.\n",
    "Luego importamos las librerías para poder realizar la gráfica de la información obtenida, lo que sucede a continuación es código sacado de la página oficial de bokeh para poder realizar las gráficas con la información obtenida ya sea con barras o pasteles, etc. Nuestra primera gráfica sus datos vienen representados en barras simples, la segunda gráfica en barras de colores diferentes.\n",
    "Para la tercera gráfica usamos igualmente código de la página de bokeh pero antes de eso volvemos a sacar mas información de la data de la columna “Provincia” e igual que la anterior filtramos la información en las 5 primeras provincias. Luego mezclamos los valores de las dos listas anteriores para poder realizar una gráfica de barras visualizando los centros de salud y las provincias antes mencionadas en una lista y así podremos observar que provincias cuentan con más centros de salud y que provincias cuentan con menos centros de salud.\n",
    "Para la última gráfica realizada extraemos los datos sólo de puestos de salud de la provincia de Tungurahua; después obtenemos la latitud y longitud de los datos antes mencionados y para finalizar convertimos esos datos tipo cadena en enteros para llamarlos a una lista, por último usamos un código de un vídeo para usar la información de google maps y como resultado obtendremos visualización de los puntos en donde existen únicamente puestos de salud de dicha provincia y los graficamos usando bokeh.\n"
   ]
  },
  {
   "cell_type": "markdown",
   "metadata": {},
   "source": [
    "### Bibliografía\n",
    "http://jupyter.org/\n",
    "\n",
    "http://pandas.pydata.org/\n",
    "\n",
    "https://es.wikipedia.org/wiki/Python\n",
    "\n",
    "https://bokeh.pydata.org/en/latest/\n",
    "\n"
   ]
  },
  {
   "cell_type": "markdown",
   "metadata": {},
   "source": [
    "### Anexos\n"
   ]
  },
  {
   "cell_type": "markdown",
   "metadata": {},
   "source": [
    "\n",
    "* Centros de Salud en 5 Provincias determinadas.\n",
    "\n",
    "![https://scontent.floh1-1.fna.fbcdn.net/v/t34.0-12/24726554_1692363590814209_1779864777_n.png?oh=59de6346c4e283ce66e52d37661d673f&oe=5A28EA57](https://scontent.floh1-1.fna.fbcdn.net/v/t34.0-12/24726554_1692363590814209_1779864777_n.png?oh=59de6346c4e283ce66e52d37661d673f&oe=5A28EA57)\n"
   ]
  },
  {
   "cell_type": "code",
   "execution_count": null,
   "metadata": {},
   "outputs": [],
   "source": []
  }
 ],
 "metadata": {
  "kernelspec": {
   "display_name": "Python 3",
   "language": "python",
   "name": "python3"
  },
  "language_info": {
   "codemirror_mode": {
    "name": "ipython",
    "version": 3
   },
   "file_extension": ".py",
   "mimetype": "text/x-python",
   "name": "python",
   "nbconvert_exporter": "python",
   "pygments_lexer": "ipython3",
   "version": "3.5.2"
  }
 },
 "nbformat": 4,
 "nbformat_minor": 2
}
